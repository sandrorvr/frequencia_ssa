{
 "cells": [
  {
   "cell_type": "code",
   "execution_count": 1,
   "metadata": {},
   "outputs": [],
   "source": [
    "import pandas as pd\n",
    "\n",
    "class TransformExcel:\n",
    "    def __init__(self, name_file, sheet='sb'):\n",
    "        self.name_file = name_file\n",
    "        self.df = pd.read_excel(f'./files/raw/{name_file}', sheet_name=sheet)\n",
    "        self.run()\n",
    "    \n",
    "\n",
    "    def getDate(self):\n",
    "        self.df['date'] = self.df.iloc[1,5].strftime(\"%m/%d/%Y\")\n",
    "    \n",
    "    def getGP(self):\n",
    "        self.df['gp'] = self.df.iloc[0,7]\n",
    "\n",
    "\n",
    "    def fillLastLocal(self):\n",
    "        self.df.reset_index(inplace=True)\n",
    "        self.df.drop(['index'], axis=1, inplace=True)\n",
    "\n",
    "        for i in range(1,len(self.df)):\n",
    "            if pd.isna(self.df.loc[i, 'pb']):\n",
    "                self.df.loc[i, 'pb'] = self.df.loc[i-1, 'pb']\n",
    "\n",
    "            if pd.isna(self.df.loc[i, 'eq']):\n",
    "                self.df.loc[i, 'eq'] = self.df.loc[i-1, 'eq']\n",
    "\n",
    "            if pd.isna(self.df.loc[i, 'road']):\n",
    "                self.df.loc[i, 'road'] = self.df.loc[i-1, 'road']\n",
    "\n",
    "    def formatColumns(self):\n",
    "        cols = list(self.df.columns)\n",
    "        date_position = cols.index('date')\n",
    "        gp_position = cols.index('gp')\n",
    "        self.df = self.df.loc[self.df.iloc[:,9]==1,:].iloc[:,[0,1,2,3,4,5,7,9, date_position, gp_position]]\n",
    "        self.df.columns = ['road','roadByworker','begin','end','pb','eq','worker','rownTrue', 'date', 'gp']\n",
    "        self.df = self.df[['gp', 'date', 'road','roadByworker','begin','end','pb','eq','worker','rownTrue']]\n",
    "    \n",
    "    def transform_to_str(self):\n",
    "        for c in self.df.columns:\n",
    "            self.df[c] = self.df[c].apply(lambda x: str(x).strip().lower() if x!=None else None)\n",
    "    \n",
    "    def mapAreasbyRoad(self):\n",
    "        self.df['areas'] = self.df[self.df['road'].str.len()>=3]['road'].apply(lambda x: x[0] if x[0] in ['1','2','3','4','5','6'] else x[:3])\n",
    "        self.df.loc[self.df['pb'].isin(['selve - supervisão','sevop', 'selve - retiro','selve - dom avelar','selve - orlando gomes' , 'serat','sefit']),'areas'] = 'interno'\n",
    "\n",
    "        self.df.loc[self.df['road'].str.len()<3,'areas'] = 'inteligencia'\n",
    "\n",
    "    @staticmethod\n",
    "    def save(df, nameCSV):\n",
    "        df.to_csv(f'./files/db_format/{nameCSV}.csv')\n",
    "    \n",
    "    def run(self):\n",
    "        self.getDate()\n",
    "        self.getGP()\n",
    "        self.formatColumns()\n",
    "        self.fillLastLocal()\n",
    "        self.transform_to_str()\n",
    "        self.mapAreasbyRoad()\n",
    "    \n",
    "    def getDF(self):\n",
    "        return self.df"
   ]
  },
  {
   "cell_type": "markdown",
   "metadata": {},
   "source": [
    "**Execute transformations in excels**"
   ]
  },
  {
   "cell_type": "code",
   "execution_count": 2,
   "metadata": {},
   "outputs": [
    {
     "name": "stderr",
     "output_type": "stream",
     "text": [
      "/home/sandro/.local/lib/python3.8/site-packages/openpyxl/worksheet/_reader.py:312: UserWarning: Conditional Formatting extension is not supported and will be removed\n",
      "  warn(msg)\n",
      "/home/sandro/.local/lib/python3.8/site-packages/openpyxl/worksheet/_reader.py:312: UserWarning: Conditional Formatting extension is not supported and will be removed\n",
      "  warn(msg)\n",
      "/home/sandro/.local/lib/python3.8/site-packages/openpyxl/worksheet/_reader.py:312: UserWarning: Conditional Formatting extension is not supported and will be removed\n",
      "  warn(msg)\n",
      "/home/sandro/.local/lib/python3.8/site-packages/openpyxl/worksheet/_reader.py:312: UserWarning: Conditional Formatting extension is not supported and will be removed\n",
      "  warn(msg)\n",
      "/home/sandro/.local/lib/python3.8/site-packages/openpyxl/worksheet/_reader.py:312: UserWarning: Conditional Formatting extension is not supported and will be removed\n",
      "  warn(msg)\n",
      "/home/sandro/.local/lib/python3.8/site-packages/openpyxl/worksheet/_reader.py:312: UserWarning: Conditional Formatting extension is not supported and will be removed\n",
      "  warn(msg)\n",
      "/home/sandro/.local/lib/python3.8/site-packages/openpyxl/worksheet/_reader.py:312: UserWarning: Conditional Formatting extension is not supported and will be removed\n",
      "  warn(msg)\n",
      "/home/sandro/.local/lib/python3.8/site-packages/openpyxl/worksheet/_reader.py:312: UserWarning: Conditional Formatting extension is not supported and will be removed\n",
      "  warn(msg)\n",
      "/home/sandro/.local/lib/python3.8/site-packages/openpyxl/worksheet/_reader.py:312: UserWarning: Conditional Formatting extension is not supported and will be removed\n",
      "  warn(msg)\n",
      "/home/sandro/.local/lib/python3.8/site-packages/openpyxl/worksheet/_reader.py:312: UserWarning: Conditional Formatting extension is not supported and will be removed\n",
      "  warn(msg)\n",
      "/home/sandro/.local/lib/python3.8/site-packages/openpyxl/worksheet/_reader.py:312: UserWarning: Conditional Formatting extension is not supported and will be removed\n",
      "  warn(msg)\n",
      "/home/sandro/.local/lib/python3.8/site-packages/openpyxl/worksheet/_reader.py:312: UserWarning: Conditional Formatting extension is not supported and will be removed\n",
      "  warn(msg)\n",
      "/home/sandro/.local/lib/python3.8/site-packages/openpyxl/worksheet/_reader.py:312: UserWarning: Conditional Formatting extension is not supported and will be removed\n",
      "  warn(msg)\n",
      "/home/sandro/.local/lib/python3.8/site-packages/openpyxl/worksheet/_reader.py:312: UserWarning: Conditional Formatting extension is not supported and will be removed\n",
      "  warn(msg)\n",
      "/home/sandro/.local/lib/python3.8/site-packages/openpyxl/worksheet/_reader.py:312: UserWarning: Conditional Formatting extension is not supported and will be removed\n",
      "  warn(msg)\n",
      "/home/sandro/.local/lib/python3.8/site-packages/openpyxl/worksheet/_reader.py:312: UserWarning: Conditional Formatting extension is not supported and will be removed\n",
      "  warn(msg)\n",
      "/home/sandro/.local/lib/python3.8/site-packages/openpyxl/worksheet/_reader.py:312: UserWarning: Conditional Formatting extension is not supported and will be removed\n",
      "  warn(msg)\n",
      "/home/sandro/.local/lib/python3.8/site-packages/openpyxl/worksheet/_reader.py:312: UserWarning: Conditional Formatting extension is not supported and will be removed\n",
      "  warn(msg)\n",
      "/home/sandro/.local/lib/python3.8/site-packages/openpyxl/worksheet/_reader.py:312: UserWarning: Conditional Formatting extension is not supported and will be removed\n",
      "  warn(msg)\n"
     ]
    }
   ],
   "source": [
    "import os\n",
    "\n",
    "excelFiles = list(os.listdir('./files/raw/'))\n",
    "for fds in ['sb']:\n",
    "    df = TransformExcel(excelFiles[0], sheet=fds).getDF()\n",
    "    for xlsx in excelFiles[1:]:\n",
    "        try:\n",
    "            df = pd.concat([df,TransformExcel(xlsx, sheet=fds).getDF()])\n",
    "        except ValueError:\n",
    "            print(xlsx)\n",
    "\n",
    "    TransformExcel.save(df, f'escala_{fds}')"
   ]
  }
 ],
 "metadata": {
  "kernelspec": {
   "display_name": "Python 3.8.10 64-bit",
   "language": "python",
   "name": "python3"
  },
  "language_info": {
   "codemirror_mode": {
    "name": "ipython",
    "version": 3
   },
   "file_extension": ".py",
   "mimetype": "text/x-python",
   "name": "python",
   "nbconvert_exporter": "python",
   "pygments_lexer": "ipython3",
   "version": "3.8.10"
  },
  "orig_nbformat": 4,
  "vscode": {
   "interpreter": {
    "hash": "916dbcbb3f70747c44a77c7bcd40155683ae19c65e1c03b4aa3499c5328201f1"
   }
  }
 },
 "nbformat": 4,
 "nbformat_minor": 2
}
