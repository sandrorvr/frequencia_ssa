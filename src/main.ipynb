{
 "cells": [
  {
   "cell_type": "code",
   "execution_count": 24,
   "metadata": {},
   "outputs": [],
   "source": [
    "import pandas as pd\n",
    "from openpyxl import Workbook, load_workbook"
   ]
  },
  {
   "cell_type": "markdown",
   "metadata": {},
   "source": [
    "**Pegar Escala**"
   ]
  },
  {
   "cell_type": "code",
   "execution_count": 44,
   "metadata": {},
   "outputs": [
    {
     "name": "stderr",
     "output_type": "stream",
     "text": [
      "/home/sandro/.local/lib/python3.8/site-packages/openpyxl/worksheet/_reader.py:312: UserWarning: Conditional Formatting extension is not supported and will be removed\n",
      "  warn(msg)\n"
     ]
    }
   ],
   "source": [
    "df = pd.read_excel('./files/raw/01 Escala Final de Semana 1 E 2-10-2022 Grupo IV.xlsx', sheet_name='sb')"
   ]
  },
  {
   "cell_type": "code",
   "execution_count": 38,
   "metadata": {},
   "outputs": [],
   "source": [
    "df.to_csv('file.csv')"
   ]
  },
  {
   "cell_type": "markdown",
   "metadata": {},
   "source": [
    "**Formatar colunas Desejadas**"
   ]
  },
  {
   "cell_type": "code",
   "execution_count": 32,
   "metadata": {},
   "outputs": [],
   "source": [
    "df = df.loc[df.iloc[:,9]==1,:].iloc[:,[0,1,2,3,4,5,7,9]]\n",
    "df.columns = ['road','roadByworker','begin','end','pb','eq','worker','rownTrue']"
   ]
  },
  {
   "cell_type": "markdown",
   "metadata": {},
   "source": [
    "*Transformar tudo em string*"
   ]
  },
  {
   "cell_type": "code",
   "execution_count": 33,
   "metadata": {},
   "outputs": [],
   "source": [
    "for c in df.columns:\n",
    "    df[c] = df[c].apply(lambda x: str(x).strip().lower() if x!=None else None)"
   ]
  },
  {
   "cell_type": "markdown",
   "metadata": {},
   "source": [
    "**Mapear areas através dos roteiros**<br>\n",
    "*dividir areas*"
   ]
  },
  {
   "cell_type": "code",
   "execution_count": 34,
   "metadata": {},
   "outputs": [],
   "source": [
    "df['areas'] = df[df['road'].str.len()>=3]['road'].apply(lambda x: x[0] if x[0] in ['1','2','3','4','5','6'] else x[:3])\n",
    "\n",
    "df.loc[df['pb'].isin(['sevop', 'selve - retiro','selve - dom avelar','selve - orlando gomes' , 'serat','sefit']),'areas'] = 'interno'\n",
    "\n",
    "df.loc[df['road'].str.len()<3,'areas'] = 'inteligencia'"
   ]
  },
  {
   "cell_type": "code",
   "execution_count": 53,
   "metadata": {},
   "outputs": [],
   "source": [
    "import pandas as pd\n",
    "\n",
    "class TransformExcel:\n",
    "    def __init__(self, name_file, sheet='sb'):\n",
    "        self.name_file = name_file\n",
    "        self.df = pd.read_excel(f'./files/raw/{name_file}', sheet_name=sheet)\n",
    "        self.run()\n",
    "    \n",
    "\n",
    "    def getDate(self):\n",
    "        self.df['date'] = self.df.iloc[1,5]\n",
    "\n",
    "    def formatColumns(self):\n",
    "        self.df = self.df.loc[self.df.iloc[:,9]==1,:].iloc[:,[0,1,2,3,4,5,7,9]]\n",
    "        self.df.columns = ['road','roadByworker','begin','end','pb','eq','worker','rownTrue']\n",
    "\n",
    "        for c in self.df.columns:\n",
    "            self.df[c] = self.df[c].apply(lambda x: str(x).strip().lower() if x!=None else None)\n",
    "    \n",
    "    def mapAreasbyRoad(self):\n",
    "        self.df['areas'] = self.df[self.df['road'].str.len()>=3]['road'].apply(lambda x: x[0] if x[0] in ['1','2','3','4','5','6'] else x[:3])\n",
    "        self.df.loc[self.df['pb'].isin(['selve - supervisão','sevop', 'selve - retiro','selve - dom avelar','selve - orlando gomes' , 'serat','sefit']),'areas'] = 'interno'\n",
    "\n",
    "        self.df.loc[self.df['road'].str.len()<3,'areas'] = 'inteligencia'\n",
    "\n",
    "    @staticmethod\n",
    "    def save(df, nameCSV):\n",
    "        df.to_csv(f'./files/db_format/{nameCSV}.csv')\n",
    "    \n",
    "    def run(self):\n",
    "        self.formatColumns()\n",
    "        self.getDate()\n",
    "        self.mapAreasbyRoad()\n",
    "    \n",
    "    def getDF(self):\n",
    "        return self.df"
   ]
  },
  {
   "cell_type": "markdown",
   "metadata": {},
   "source": [
    "**Execute transformations in excels**"
   ]
  },
  {
   "cell_type": "code",
   "execution_count": 54,
   "metadata": {},
   "outputs": [
    {
     "name": "stderr",
     "output_type": "stream",
     "text": [
      "/home/sandro/.local/lib/python3.8/site-packages/openpyxl/worksheet/_reader.py:312: UserWarning: Conditional Formatting extension is not supported and will be removed\n",
      "  warn(msg)\n",
      "/home/sandro/.local/lib/python3.8/site-packages/openpyxl/worksheet/_reader.py:312: UserWarning: Conditional Formatting extension is not supported and will be removed\n",
      "  warn(msg)\n",
      "/home/sandro/.local/lib/python3.8/site-packages/openpyxl/worksheet/_reader.py:312: UserWarning: Conditional Formatting extension is not supported and will be removed\n",
      "  warn(msg)\n",
      "/home/sandro/.local/lib/python3.8/site-packages/openpyxl/worksheet/_reader.py:312: UserWarning: Conditional Formatting extension is not supported and will be removed\n",
      "  warn(msg)\n",
      "/home/sandro/.local/lib/python3.8/site-packages/openpyxl/worksheet/_reader.py:312: UserWarning: Conditional Formatting extension is not supported and will be removed\n",
      "  warn(msg)\n",
      "/home/sandro/.local/lib/python3.8/site-packages/openpyxl/worksheet/_reader.py:312: UserWarning: Conditional Formatting extension is not supported and will be removed\n",
      "  warn(msg)\n",
      "/home/sandro/.local/lib/python3.8/site-packages/openpyxl/worksheet/_reader.py:312: UserWarning: Conditional Formatting extension is not supported and will be removed\n",
      "  warn(msg)\n",
      "/home/sandro/.local/lib/python3.8/site-packages/openpyxl/worksheet/_reader.py:312: UserWarning: Conditional Formatting extension is not supported and will be removed\n",
      "  warn(msg)\n",
      "/home/sandro/.local/lib/python3.8/site-packages/openpyxl/worksheet/_reader.py:312: UserWarning: Conditional Formatting extension is not supported and will be removed\n",
      "  warn(msg)\n",
      "/home/sandro/.local/lib/python3.8/site-packages/openpyxl/worksheet/_reader.py:312: UserWarning: Conditional Formatting extension is not supported and will be removed\n",
      "  warn(msg)\n",
      "/home/sandro/.local/lib/python3.8/site-packages/openpyxl/worksheet/_reader.py:312: UserWarning: Conditional Formatting extension is not supported and will be removed\n",
      "  warn(msg)\n",
      "/home/sandro/.local/lib/python3.8/site-packages/openpyxl/worksheet/_reader.py:312: UserWarning: Conditional Formatting extension is not supported and will be removed\n",
      "  warn(msg)\n",
      "/home/sandro/.local/lib/python3.8/site-packages/openpyxl/worksheet/_reader.py:312: UserWarning: Conditional Formatting extension is not supported and will be removed\n",
      "  warn(msg)\n",
      "/home/sandro/.local/lib/python3.8/site-packages/openpyxl/worksheet/_reader.py:312: UserWarning: Conditional Formatting extension is not supported and will be removed\n",
      "  warn(msg)\n",
      "/home/sandro/.local/lib/python3.8/site-packages/openpyxl/worksheet/_reader.py:312: UserWarning: Conditional Formatting extension is not supported and will be removed\n",
      "  warn(msg)\n",
      "/home/sandro/.local/lib/python3.8/site-packages/openpyxl/worksheet/_reader.py:312: UserWarning: Conditional Formatting extension is not supported and will be removed\n",
      "  warn(msg)\n",
      "/home/sandro/.local/lib/python3.8/site-packages/openpyxl/worksheet/_reader.py:312: UserWarning: Conditional Formatting extension is not supported and will be removed\n",
      "  warn(msg)\n",
      "/home/sandro/.local/lib/python3.8/site-packages/openpyxl/worksheet/_reader.py:312: UserWarning: Conditional Formatting extension is not supported and will be removed\n",
      "  warn(msg)\n",
      "/home/sandro/.local/lib/python3.8/site-packages/openpyxl/worksheet/_reader.py:312: UserWarning: Conditional Formatting extension is not supported and will be removed\n",
      "  warn(msg)\n"
     ]
    }
   ],
   "source": [
    "import os\n",
    "\n",
    "excelFiles = list(os.listdir('./files/raw/'))\n",
    "\n",
    "df = TransformExcel(excelFiles[0]).getDF()\n",
    "for xlsx in excelFiles[1:]:\n",
    "    try:\n",
    "        df = pd.concat([df,TransformExcel(xlsx).getDF()])\n",
    "    except ValueError:\n",
    "        print(xlsx)\n",
    "\n",
    "TransformExcel.save(df, 'escala')"
   ]
  }
 ],
 "metadata": {
  "kernelspec": {
   "display_name": "Python 3.8.10 64-bit",
   "language": "python",
   "name": "python3"
  },
  "language_info": {
   "codemirror_mode": {
    "name": "ipython",
    "version": 3
   },
   "file_extension": ".py",
   "mimetype": "text/x-python",
   "name": "python",
   "nbconvert_exporter": "python",
   "pygments_lexer": "ipython3",
   "version": "3.8.10"
  },
  "orig_nbformat": 4,
  "vscode": {
   "interpreter": {
    "hash": "916dbcbb3f70747c44a77c7bcd40155683ae19c65e1c03b4aa3499c5328201f1"
   }
  }
 },
 "nbformat": 4,
 "nbformat_minor": 2
}
